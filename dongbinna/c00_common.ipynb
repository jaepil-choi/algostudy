{
 "cells": [
  {
   "cell_type": "markdown",
   "metadata": {},
   "source": [
    "# Common snnipets for coding test"
   ]
  },
  {
   "cell_type": "markdown",
   "metadata": {},
   "source": [
    "## I/O"
   ]
  },
  {
   "cell_type": "markdown",
   "metadata": {},
   "source": [
    "`input()`이 한 줄이다. \n",
    "\n",
    "한 줄씩 받고, `map`을 통해 `str`에서 type을 바꿔준다. "
   ]
  },
  {
   "cell_type": "code",
   "execution_count": null,
   "metadata": {},
   "outputs": [],
   "source": [
    "n, m, k = map(int, input().split())"
   ]
  },
  {
   "cell_type": "code",
   "execution_count": null,
   "metadata": {},
   "outputs": [],
   "source": [
    "data = list(map(int, input().split()))"
   ]
  },
  {
   "cell_type": "markdown",
   "metadata": {},
   "source": [
    "입력 갯수가 많은 경우 `input()`은 느려서 시간초과 날 수 있다. "
   ]
  },
  {
   "cell_type": "code",
   "execution_count": 1,
   "metadata": {},
   "outputs": [],
   "source": [
    "import sys\n",
    "\n",
    "sys.stdin.readline().rstrip() # rstrip을 하지 않으면 마지막에 \\n이 들어가게 됨. "
   ]
  },
  {
   "cell_type": "markdown",
   "metadata": {},
   "source": [
    "# Useful built-ins/libraries"
   ]
  },
  {
   "cell_type": "markdown",
   "metadata": {},
   "source": [
    "## built-ins"
   ]
  },
  {
   "cell_type": "code",
   "execution_count": 1,
   "metadata": {},
   "outputs": [
    {
     "data": {
      "text/plain": [
       "<function max>"
      ]
     },
     "execution_count": 1,
     "metadata": {},
     "output_type": "execute_result"
    }
   ],
   "source": [
    "sum\n",
    "min\n",
    "max"
   ]
  },
  {
   "cell_type": "code",
   "execution_count": 2,
   "metadata": {},
   "outputs": [
    {
     "data": {
      "text/plain": [
       "1.1428571428571428"
      ]
     },
     "execution_count": 2,
     "metadata": {},
     "output_type": "execute_result"
    }
   ],
   "source": [
    "eval('(3+5)/7')"
   ]
  },
  {
   "cell_type": "code",
   "execution_count": 9,
   "metadata": {},
   "outputs": [
    {
     "name": "stdout",
     "output_type": "stream",
     "text": [
      "['0 hello', '1 hello', '2 hello', '3 hello', '4 hello', '5 hello', '6 hello', '7 hello', '8 hello', '9 hello']\n"
     ]
    }
   ],
   "source": [
    "arbitrary_code = 'print([f\"{x} hello\" for x in range(10)])'\n",
    "\n",
    "eval(arbitrary_code)"
   ]
  },
  {
   "cell_type": "code",
   "execution_count": 13,
   "metadata": {},
   "outputs": [
    {
     "data": {
      "text/plain": [
       "[9, 8, 5, 4, 1]"
      ]
     },
     "execution_count": 13,
     "metadata": {},
     "output_type": "execute_result"
    }
   ],
   "source": [
    "li = [9, 1, 8, 5, 4]\n",
    "\n",
    "sorted(li, reverse=True) # default: ASC"
   ]
  },
  {
   "cell_type": "code",
   "execution_count": 14,
   "metadata": {},
   "outputs": [
    {
     "data": {
      "text/plain": [
       "[1, 4, 5, 8, 9]"
      ]
     },
     "execution_count": 14,
     "metadata": {},
     "output_type": "execute_result"
    }
   ],
   "source": [
    "li.sort()\n",
    "\n",
    "li"
   ]
  },
  {
   "cell_type": "code",
   "execution_count": 15,
   "metadata": {},
   "outputs": [
    {
     "data": {
      "text/plain": [
       "[('b', 21), ('a', 32), ('d', 56), ('c', 58)]"
      ]
     },
     "execution_count": 15,
     "metadata": {},
     "output_type": "execute_result"
    }
   ],
   "source": [
    "li = [('a', 32), ('b', 21), ('c', 58), ('d', 56)]\n",
    "\n",
    "sorted(li, key=lambda x: x[1])"
   ]
  },
  {
   "cell_type": "markdown",
   "metadata": {},
   "source": [
    "## standard libraries"
   ]
  },
  {
   "cell_type": "markdown",
   "metadata": {},
   "source": [
    "### `itertools`"
   ]
  },
  {
   "cell_type": "code",
   "execution_count": 24,
   "metadata": {},
   "outputs": [],
   "source": [
    "from itertools import permutations, combinations, combinations_with_replacement, product\n",
    "\n",
    "data = ['a', 'b', 'c']"
   ]
  },
  {
   "cell_type": "code",
   "execution_count": 19,
   "metadata": {},
   "outputs": [
    {
     "data": {
      "text/plain": [
       "[('a', 'b'), ('a', 'c'), ('b', 'a'), ('b', 'c'), ('c', 'a'), ('c', 'b')]"
      ]
     },
     "execution_count": 19,
     "metadata": {},
     "output_type": "execute_result"
    }
   ],
   "source": [
    "list(permutations(data, 2)) # 3P2"
   ]
  },
  {
   "cell_type": "code",
   "execution_count": 22,
   "metadata": {},
   "outputs": [
    {
     "data": {
      "text/plain": [
       "[('a', 'b'), ('a', 'c'), ('b', 'c')]"
      ]
     },
     "execution_count": 22,
     "metadata": {},
     "output_type": "execute_result"
    }
   ],
   "source": [
    "list(combinations(data, 2)) # 3C2 비복원 추출로 combination한 것. 하지만 일반적인 nCm 은 아님. "
   ]
  },
  {
   "cell_type": "code",
   "execution_count": 23,
   "metadata": {},
   "outputs": [
    {
     "data": {
      "text/plain": [
       "[('a', 'a', 'a', 'a'),\n",
       " ('a', 'a', 'a', 'b'),\n",
       " ('a', 'a', 'a', 'c'),\n",
       " ('a', 'a', 'b', 'b'),\n",
       " ('a', 'a', 'b', 'c'),\n",
       " ('a', 'a', 'c', 'c'),\n",
       " ('a', 'b', 'b', 'b'),\n",
       " ('a', 'b', 'b', 'c'),\n",
       " ('a', 'b', 'c', 'c'),\n",
       " ('a', 'c', 'c', 'c'),\n",
       " ('b', 'b', 'b', 'b'),\n",
       " ('b', 'b', 'b', 'c'),\n",
       " ('b', 'b', 'c', 'c'),\n",
       " ('b', 'c', 'c', 'c'),\n",
       " ('c', 'c', 'c', 'c')]"
      ]
     },
     "execution_count": 23,
     "metadata": {},
     "output_type": "execute_result"
    }
   ],
   "source": [
    "list(combinations_with_replacement(data, 4)) # 이게 3C4"
   ]
  },
  {
   "cell_type": "code",
   "execution_count": 26,
   "metadata": {},
   "outputs": [
    {
     "data": {
      "text/plain": [
       "[('a', 'a', 'a', 'a'),\n",
       " ('a', 'a', 'a', 'b'),\n",
       " ('a', 'a', 'a', 'c'),\n",
       " ('a', 'a', 'b', 'a'),\n",
       " ('a', 'a', 'b', 'b'),\n",
       " ('a', 'a', 'b', 'c'),\n",
       " ('a', 'a', 'c', 'a'),\n",
       " ('a', 'a', 'c', 'b'),\n",
       " ('a', 'a', 'c', 'c'),\n",
       " ('a', 'b', 'a', 'a'),\n",
       " ('a', 'b', 'a', 'b'),\n",
       " ('a', 'b', 'a', 'c'),\n",
       " ('a', 'b', 'b', 'a'),\n",
       " ('a', 'b', 'b', 'b'),\n",
       " ('a', 'b', 'b', 'c'),\n",
       " ('a', 'b', 'c', 'a'),\n",
       " ('a', 'b', 'c', 'b'),\n",
       " ('a', 'b', 'c', 'c'),\n",
       " ('a', 'c', 'a', 'a'),\n",
       " ('a', 'c', 'a', 'b'),\n",
       " ('a', 'c', 'a', 'c'),\n",
       " ('a', 'c', 'b', 'a'),\n",
       " ('a', 'c', 'b', 'b'),\n",
       " ('a', 'c', 'b', 'c'),\n",
       " ('a', 'c', 'c', 'a'),\n",
       " ('a', 'c', 'c', 'b'),\n",
       " ('a', 'c', 'c', 'c'),\n",
       " ('b', 'a', 'a', 'a'),\n",
       " ('b', 'a', 'a', 'b'),\n",
       " ('b', 'a', 'a', 'c'),\n",
       " ('b', 'a', 'b', 'a'),\n",
       " ('b', 'a', 'b', 'b'),\n",
       " ('b', 'a', 'b', 'c'),\n",
       " ('b', 'a', 'c', 'a'),\n",
       " ('b', 'a', 'c', 'b'),\n",
       " ('b', 'a', 'c', 'c'),\n",
       " ('b', 'b', 'a', 'a'),\n",
       " ('b', 'b', 'a', 'b'),\n",
       " ('b', 'b', 'a', 'c'),\n",
       " ('b', 'b', 'b', 'a'),\n",
       " ('b', 'b', 'b', 'b'),\n",
       " ('b', 'b', 'b', 'c'),\n",
       " ('b', 'b', 'c', 'a'),\n",
       " ('b', 'b', 'c', 'b'),\n",
       " ('b', 'b', 'c', 'c'),\n",
       " ('b', 'c', 'a', 'a'),\n",
       " ('b', 'c', 'a', 'b'),\n",
       " ('b', 'c', 'a', 'c'),\n",
       " ('b', 'c', 'b', 'a'),\n",
       " ('b', 'c', 'b', 'b'),\n",
       " ('b', 'c', 'b', 'c'),\n",
       " ('b', 'c', 'c', 'a'),\n",
       " ('b', 'c', 'c', 'b'),\n",
       " ('b', 'c', 'c', 'c'),\n",
       " ('c', 'a', 'a', 'a'),\n",
       " ('c', 'a', 'a', 'b'),\n",
       " ('c', 'a', 'a', 'c'),\n",
       " ('c', 'a', 'b', 'a'),\n",
       " ('c', 'a', 'b', 'b'),\n",
       " ('c', 'a', 'b', 'c'),\n",
       " ('c', 'a', 'c', 'a'),\n",
       " ('c', 'a', 'c', 'b'),\n",
       " ('c', 'a', 'c', 'c'),\n",
       " ('c', 'b', 'a', 'a'),\n",
       " ('c', 'b', 'a', 'b'),\n",
       " ('c', 'b', 'a', 'c'),\n",
       " ('c', 'b', 'b', 'a'),\n",
       " ('c', 'b', 'b', 'b'),\n",
       " ('c', 'b', 'b', 'c'),\n",
       " ('c', 'b', 'c', 'a'),\n",
       " ('c', 'b', 'c', 'b'),\n",
       " ('c', 'b', 'c', 'c'),\n",
       " ('c', 'c', 'a', 'a'),\n",
       " ('c', 'c', 'a', 'b'),\n",
       " ('c', 'c', 'a', 'c'),\n",
       " ('c', 'c', 'b', 'a'),\n",
       " ('c', 'c', 'b', 'b'),\n",
       " ('c', 'c', 'b', 'c'),\n",
       " ('c', 'c', 'c', 'a'),\n",
       " ('c', 'c', 'c', 'b'),\n",
       " ('c', 'c', 'c', 'c')]"
      ]
     },
     "execution_count": 26,
     "metadata": {},
     "output_type": "execute_result"
    }
   ],
   "source": [
    "list(product(data, repeat=4)) # Permutation with replacement라고 보면 됨. 모든 순열 조합을 뽑을 수 있다. "
   ]
  },
  {
   "cell_type": "markdown",
   "metadata": {},
   "source": [
    "### `heapq`"
   ]
  },
  {
   "cell_type": "code",
   "execution_count": null,
   "metadata": {},
   "outputs": [],
   "source": []
  },
  {
   "cell_type": "code",
   "execution_count": null,
   "metadata": {},
   "outputs": [],
   "source": []
  },
  {
   "cell_type": "code",
   "execution_count": null,
   "metadata": {},
   "outputs": [],
   "source": []
  },
  {
   "cell_type": "markdown",
   "metadata": {},
   "source": [
    "### `deque`"
   ]
  },
  {
   "cell_type": "code",
   "execution_count": 1,
   "metadata": {},
   "outputs": [],
   "source": [
    "from collections import deque"
   ]
  },
  {
   "cell_type": "code",
   "execution_count": 5,
   "metadata": {},
   "outputs": [
    {
     "data": {
      "text/plain": [
       "['heapify',\n",
       " 'heappop',\n",
       " 'heappush',\n",
       " 'heappushpop',\n",
       " 'heapreplace',\n",
       " 'merge',\n",
       " 'nlargest',\n",
       " 'nsmallest']"
      ]
     },
     "execution_count": 5,
     "metadata": {},
     "output_type": "execute_result"
    }
   ],
   "source": [
    "import heapq\n",
    "\n",
    "[d for d in dir(heapq) if not d.startswith('_')]"
   ]
  },
  {
   "cell_type": "code",
   "execution_count": 6,
   "metadata": {},
   "outputs": [],
   "source": [
    "from bisect import bisect_left, bisect_right"
   ]
  },
  {
   "cell_type": "code",
   "execution_count": 8,
   "metadata": {},
   "outputs": [
    {
     "data": {
      "text/plain": [
       "4"
      ]
     },
     "execution_count": 8,
     "metadata": {},
     "output_type": "execute_result"
    }
   ],
   "source": [
    "a = [1, 4,2 ,5, 67]\n",
    "\n",
    "x = 6\n",
    "\n",
    "bisect_right(a, x)"
   ]
  },
  {
   "cell_type": "code",
   "execution_count": 9,
   "metadata": {},
   "outputs": [
    {
     "data": {
      "text/plain": [
       "4"
      ]
     },
     "execution_count": 9,
     "metadata": {},
     "output_type": "execute_result"
    }
   ],
   "source": [
    "a = [1, 4,2 ,5, 67]\n",
    "\n",
    "x = 5\n",
    "\n",
    "bisect_right(a, x)"
   ]
  },
  {
   "cell_type": "code",
   "execution_count": 10,
   "metadata": {},
   "outputs": [
    {
     "data": {
      "text/plain": [
       "3"
      ]
     },
     "execution_count": 10,
     "metadata": {},
     "output_type": "execute_result"
    }
   ],
   "source": [
    "a = [1, 4,2 ,5, 67]\n",
    "\n",
    "x = 4\n",
    "\n",
    "bisect_right(a, x)"
   ]
  },
  {
   "cell_type": "code",
   "execution_count": 11,
   "metadata": {},
   "outputs": [
    {
     "data": {
      "text/plain": [
       "3"
      ]
     },
     "execution_count": 11,
     "metadata": {},
     "output_type": "execute_result"
    }
   ],
   "source": [
    "a = [1, 4,2 ,5, 67]\n",
    "\n",
    "x = 4\n",
    "\n",
    "bisect_left(a, x)"
   ]
  },
  {
   "cell_type": "code",
   "execution_count": null,
   "metadata": {},
   "outputs": [],
   "source": [
    "import sys\n",
    "\n",
    "data = sys.stdin.read().splitlines()\n",
    "data = [list(map(int, d.split())) for d in data]"
   ]
  },
  {
   "cell_type": "code",
   "execution_count": 12,
   "metadata": {},
   "outputs": [],
   "source": [
    "import heapq"
   ]
  },
  {
   "cell_type": "code",
   "execution_count": 13,
   "metadata": {},
   "outputs": [],
   "source": [
    "from collections import deque, Counter"
   ]
  },
  {
   "cell_type": "code",
   "execution_count": null,
   "metadata": {},
   "outputs": [],
   "source": [
    "from itertools import "
   ]
  }
 ],
 "metadata": {
  "kernelspec": {
   "display_name": "Python 3.8.12 ('sandbox38')",
   "language": "python",
   "name": "python3"
  },
  "language_info": {
   "codemirror_mode": {
    "name": "ipython",
    "version": 3
   },
   "file_extension": ".py",
   "mimetype": "text/x-python",
   "name": "python",
   "nbconvert_exporter": "python",
   "pygments_lexer": "ipython3",
   "version": "3.8.12"
  },
  "orig_nbformat": 4,
  "vscode": {
   "interpreter": {
    "hash": "43bd92a372794bd421f35bcc4cb2908851e192b974b03c533f4002c74631e781"
   }
  }
 },
 "nbformat": 4,
 "nbformat_minor": 2
}
